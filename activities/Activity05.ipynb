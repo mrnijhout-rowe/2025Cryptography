{
 "cells": [
  {
   "cell_type": "markdown",
   "metadata": {},
   "source": [
    "# 🐍 Python Debugging Loops Activity\n",
    "\n",
    "## Overview\n",
    "In this activity, you'll inspect blocks of Python code that all contain an error. Identify the error, and propose a solution that would allow the revised code to accomplish the stated goal.\n",
    "\n",
    "**📝 Note:** Try to think through the code with just your brain before running it!\n",
    "\n",
    "## 🎯 Challenges\n",
    "Each code snippet below contains a common mistake in how loops are used. For each example, identify the mistake and fix the code to make it work as intended."
   ]
  },
  {
   "cell_type": "markdown",
   "metadata": {},
   "source": [
    "### 1. Goal: Print numbers from 1 to 5\n",
    "\n",
    "**Run the buggy code below and observe what happens:**"
   ]
  },
  {
   "cell_type": "code",
   "execution_count": null,
   "metadata": {},
   "outputs": [],
   "source": [
    "# Buggy code - run this first!\n",
    "counter = 1\n",
    "while counter <= 5:\n",
    "    print(counter)"
   ]
  },
  {
   "cell_type": "markdown",
   "metadata": {},
   "source": [
    "**🔍 What happened? Why didn't it work as expected?**"
   ]
  },
  {
   "cell_type": "code",
   "execution_count": null,
   "metadata": {},
   "outputs": [],
   "source": [
    "# Fix the code here:\n",
    "\n"
   ]
  },
  {
   "cell_type": "markdown",
   "metadata": {},
   "source": [
    "### 2. Goal: Print each letter in word one line at a time\n",
    "\n",
    "**Run the buggy code below and observe what happens:**"
   ]
  },
  {
   "cell_type": "code",
   "execution_count": null,
   "metadata": {},
   "outputs": [],
   "source": [
    "# Buggy code - run this first!\n",
    "word = \"CRYPTO\"\n",
    "for i in range(1, len(word)):\n",
    "    print(word[i])"
   ]
  },
  {
   "cell_type": "markdown",
   "metadata": {},
   "source": [
    "**🔍 What happened? Why didn't it work as expected?**"
   ]
  },
  {
   "cell_type": "code",
   "execution_count": null,
   "metadata": {},
   "outputs": [],
   "source": [
    "# Fix the code here:\n",
    "\n"
   ]
  },
  {
   "cell_type": "markdown",
   "metadata": {},
   "source": [
    "### 3. Goal: Print out numbers in the pattern: 1, 2, 4, 8, 16\n",
    "\n",
    "**Run the buggy code below and observe what happens:**"
   ]
  },
  {
   "cell_type": "code",
   "execution_count": null,
   "metadata": {},
   "outputs": [],
   "source": [
    "# Buggy code - run this first!\n",
    "number = 1\n",
    "while number <= 16:\n",
    "    number = number * 2\n",
    "    print(number)"
   ]
  },
  {
   "cell_type": "markdown",
   "metadata": {},
   "source": [
    "**🔍 What happened? Why didn't it work as expected?**"
   ]
  },
  {
   "cell_type": "code",
   "execution_count": null,
   "metadata": {},
   "outputs": [],
   "source": [
    "# Fix the code here:\n",
    "\n"
   ]
  },
  {
   "cell_type": "markdown",
   "metadata": {},
   "source": [
    "### 4. Goal: Print even numbers from 2 to 10\n",
    "\n",
    "**Run the buggy code below and observe what happens:**"
   ]
  },
  {
   "cell_type": "code",
   "execution_count": null,
   "metadata": {},
   "outputs": [],
   "source": [
    "# Buggy code - run this first!\n",
    "number = 2\n",
    "while number < 10:\n",
    "    print(number)\n",
    "    number = number + 2"
   ]
  },
  {
   "cell_type": "markdown",
   "metadata": {},
   "source": [
    "**🔍 What happened? Why didn't it work as expected?**"
   ]
  },
  {
   "cell_type": "code",
   "execution_count": null,
   "metadata": {},
   "outputs": [],
   "source": [
    "# Fix the code here:\n",
    "\n"
   ]
  },
  {
   "cell_type": "markdown",
   "metadata": {},
   "source": [
    "### 5. Goal: Sum numbers from 1 to 5\n",
    "\n",
    "**Run the buggy code below and observe what happens:**"
   ]
  },
  {
   "cell_type": "code",
   "execution_count": null,
   "metadata": {},
   "outputs": [],
   "source": [
    "# Buggy code - run this first!\n",
    "sum = 0\n",
    "for number in range(1, 6):\n",
    "    sum = number\n",
    "print(sum)"
   ]
  },
  {
   "cell_type": "markdown",
   "metadata": {},
   "source": [
    "**🔍 What happened? Why didn't it work as expected?**"
   ]
  },
  {
   "cell_type": "code",
   "execution_count": null,
   "metadata": {},
   "outputs": [],
   "source": [
    "# Fix the code here:\n",
    "\n"
   ]
  },
  {
   "cell_type": "markdown",
   "metadata": {},
   "source": [
    "### 6. Goal: Count how many times letter 'A' appears in a word\n",
    "\n",
    "**Run the buggy code below and observe what happens:**"
   ]
  },
  {
   "cell_type": "code",
   "execution_count": null,
   "metadata": {},
   "outputs": [],
   "source": [
    "# Buggy code - run this first!\n",
    "word = \"PANAMA\"\n",
    "count = 0\n",
    "for letter in word:\n",
    "    count = 0\n",
    "    if letter == \"A\":\n",
    "        count = count + 1\n",
    "print(count)"
   ]
  },
  {
   "cell_type": "markdown",
   "metadata": {},
   "source": [
    "**🔍 What happened? Why didn't it work as expected?**"
   ]
  },
  {
   "cell_type": "code",
   "execution_count": null,
   "metadata": {},
   "outputs": [],
   "source": [
    "# Fix the code here:\n",
    "\n"
   ]
  },
  {
   "cell_type": "markdown",
   "metadata": {},
   "source": [
    "### 7. Goal: Remove vowels from the text\n",
    "\n",
    "**Run the buggy code below and observe what happens:**"
   ]
  },
  {
   "cell_type": "code",
   "execution_count": null,
   "metadata": {},
   "outputs": [],
   "source": [
    "# Buggy code - run this first!\n",
    "text = \"HELLO\"\n",
    "vowels = \"AEIOU\"\n",
    "for letter in text:\n",
    "    if letter in vowels:\n",
    "        text = text.replace(letter, \"\")\n",
    "print(text)"
   ]
  },
  {
   "cell_type": "markdown",
   "metadata": {},
   "source": [
    "**🔍 What happened? Why didn't it work as expected?**"
   ]
  },
  {
   "cell_type": "code",
   "execution_count": null,
   "metadata": {},
   "outputs": [],
   "source": [
    "# Fix the code here:\n",
    "\n"
   ]
  },
  {
   "cell_type": "markdown",
   "metadata": {},
   "source": [
    "## 🎉 Great Job!\n",
    "\n",
    "Once you've fixed all the bugs, you've successfully debugged 7 common loop mistakes! These are patterns you'll see again and again in programming, so understanding them now will serve you well."
   ]
  }
 ],
 "metadata": {
  "kernelspec": {
   "display_name": "Python 3",
   "language": "python",
   "name": "python3"
  },
  "language_info": {
   "codemirror_mode": {
    "name": "ipython",
    "version": 3
   },
   "file_extension": ".py",
   "mimetype": "text/x-python",
   "name": "python",
   "nbconvert_exporter": "python",
   "pygments_lexer": "ipython3",
   "version": "3.13.3"
  }
 },
 "nbformat": 4,
 "nbformat_minor": 4
}
